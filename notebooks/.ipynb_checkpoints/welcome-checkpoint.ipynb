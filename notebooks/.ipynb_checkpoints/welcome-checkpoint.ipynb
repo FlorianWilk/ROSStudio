{
 "cells": [
  {
   "cell_type": "markdown",
   "metadata": {},
   "source": [
    "# This is ROSStudio"
   ]
  },
  {
   "cell_type": "markdown",
   "metadata": {},
   "source": [
    "With ROSStudio you can easily develop, simulate and test your ROS-Code from everywhere.\n"
   ]
  },
  {
   "cell_type": "markdown",
   "metadata": {},
   "source": [
    "On the right you can see three areas:\n",
    "The Editor on the upper left, the Simulator on the upper right and the Console at the bottom."
   ]
  },
  {
   "cell_type": "markdown",
   "metadata": {},
   "source": [
    "The Editor allows you to change your Code and Configurationfiles. All changes will stay on your local machine in case of using Docker."
   ]
  },
  {
   "cell_type": "markdown",
   "metadata": {},
   "source": [
    "The Simulator on the right shows the Robot's Environment.\n",
    "There are many existing Worlds and of course you can create your own one."
   ]
  },
  {
   "cell_type": "markdown",
   "metadata": {},
   "source": [
    "The Console is a ZSH-Shell with TMUX. If you don't know anything about TMUX, go to the console and type\n",
    "\n",
    "CTRL-B \" or CTRL-B %\n",
    "\n",
    "Type 'man tmux' to learn more. You will love it."
   ]
  },
  {
   "cell_type": "markdown",
   "metadata": {},
   "source": [
    "# Snippets"
   ]
  },
  {
   "cell_type": "code",
   "execution_count": null,
   "metadata": {},
   "outputs": [],
   "source": [
    "%%bash \n",
    "source /home/ros/catkin_ws/devel/setup.bash\n",
    "roslaunch ur5_moveit_config \\\n",
    "ur5_moveit_planning_execution.launch sim:=true"
   ]
  },
  {
   "cell_type": "code",
   "execution_count": null,
   "metadata": {},
   "outputs": [],
   "source": [
    "%%bash \n",
    "source /home/ros/catkin_ws/devel/setup.bash\n",
    "roslaunch ur5_moveit_config moveit_rviz.launch \\\n",
    "config:=true"
   ]
  },
  {
   "cell_type": "markdown",
   "metadata": {},
   "source": [
    "# Examples\n",
    "\n",
    "Add a Coke-Can:"
   ]
  },
  {
   "cell_type": "code",
   "execution_count": 2,
   "metadata": {},
   "outputs": [
    {
     "name": "stdout",
     "output_type": "stream",
     "text": [
      "SpawnModel script started\n",
      "[INFO] [1554843710.590836, 0.000000]: Loading model XML from Gazebo Model Database\n",
      "[INFO] [1554843710.591000, 0.000000]: Waiting for service /gazebo/spawn_sdf_model\n",
      "[INFO] [1554843710.591716, 0.000000]: Calling service /gazebo/spawn_sdf_model\n",
      "[INFO] [1554843710.715048, 59126.876000]: Spawn status: SpawnModel: Successfully spawned entity\n"
     ]
    }
   ],
   "source": [
    "%%bash \n",
    "source /home/ros/catkin_ws/devel/setup.bash\n",
    "rosrun gazebo_ros spawn_model \\\n",
    "-database willowgarage -sdf \\\n",
    "-model garage -y 0.0 -x 0.0 -z 0.0"
   ]
  },
  {
   "cell_type": "markdown",
   "metadata": {},
   "source": [
    "Or add a UR10 Robot-Arm:"
   ]
  },
  {
   "cell_type": "code",
   "execution_count": 3,
   "metadata": {},
   "outputs": [
    {
     "name": "stdout",
     "output_type": "stream",
     "text": [
      "SpawnModel script started\n",
      "[INFO] [1554843809.236384, 0.000000]: Loading model XML from Gazebo Model Database\n",
      "[INFO] [1554843809.236550, 0.000000]: Waiting for service /gazebo/spawn_sdf_model\n",
      "[INFO] [1554843809.237258, 0.000000]: Calling service /gazebo/spawn_sdf_model\n",
      "[INFO] [1554843810.838003, 59225.352000]: Spawn status: SpawnModel: Successfully spawned entity\n"
     ]
    }
   ],
   "source": [
    "%%bash \n",
    "source /home/ros/catkin_ws/devel/setup.bash\n",
    "rosrun gazebo_ros spawn_model -database ur10 -sdf \\\n",
    "-model ur10_1 -y 0.3 -x 0.3 -z 2.0"
   ]
  },
  {
   "cell_type": "code",
   "execution_count": null,
   "metadata": {},
   "outputs": [],
   "source": []
  }
 ],
 "metadata": {
  "kernelspec": {
   "display_name": "Python 3",
   "language": "python",
   "name": "python3"
  },
  "language_info": {
   "codemirror_mode": {
    "name": "ipython",
    "version": 3
   },
   "file_extension": ".py",
   "mimetype": "text/x-python",
   "name": "python",
   "nbconvert_exporter": "python",
   "pygments_lexer": "ipython3",
   "version": "3.5.2"
  }
 },
 "nbformat": 4,
 "nbformat_minor": 2
}
