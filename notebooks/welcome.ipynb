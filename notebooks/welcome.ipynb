{
 "cells": [
  {
   "cell_type": "markdown",
   "metadata": {},
   "source": [
    "# This is ROSStudio"
   ]
  },
  {
   "cell_type": "markdown",
   "metadata": {},
   "source": [
    "With ROSStudio you can easily develop, simulate and test your ROS-Code from everywhere.\n"
   ]
  },
  {
   "cell_type": "markdown",
   "metadata": {},
   "source": [
    "On the right you can see three areas:\n",
    "The Editor on the upper left, the Simulator on the upper right and the Console at the bottom."
   ]
  },
  {
   "cell_type": "markdown",
   "metadata": {},
   "source": [
    "The Editor allows you to change your Code and Configurationfiles. All changes will stay on your local machine in case of using Docker."
   ]
  },
  {
   "cell_type": "markdown",
   "metadata": {},
   "source": [
    "The Simulator on the right shows the Robot's Environment.\n",
    "There are many existing Worlds and of course you can create your own one."
   ]
  },
  {
   "cell_type": "markdown",
   "metadata": {},
   "source": [
    "The Console is a ZSH-Shell with TMUX. If you don't know anything about TMUX, go to the console and type\n",
    "\n",
    "CTRL-B \" or CTRL-B %\n",
    "\n",
    "Type 'man tmux' to learn more. You will love it."
   ]
  },
  {
   "cell_type": "code",
   "execution_count": 1,
   "metadata": {},
   "outputs": [
    {
     "name": "stdout",
     "output_type": "stream",
     "text": [
      "SpawnModel script started\n",
      "[INFO] [1554670043.435995, 0.000000]: Loading model XML from Gazebo Model Database\n",
      "[INFO] [1554670043.436766, 0.000000]: Waiting for service /gazebo/spawn_sdf_model\n",
      "[INFO] [1554670043.441132, 0.000000]: Calling service /gazebo/spawn_sdf_model\n",
      "[INFO] [1554670045.218335, 14.877000]: Spawn status: SpawnModel: Successfully spawned entity\n"
     ]
    },
    {
     "name": "stderr",
     "output_type": "stream",
     "text": [
      "the rosdep view is empty: call 'sudo rosdep init' and 'rosdep update'\n"
     ]
    }
   ],
   "source": [
    "%%bash \n",
    "source /home/ros/catkin_ws/devel/setup.bash\n",
    "rosrun gazebo_ros spawn_model -database coke_can -sdf -model my_cojke_can -y 2.5 -x 0.3 "
   ]
  },
  {
   "cell_type": "code",
   "execution_count": null,
   "metadata": {},
   "outputs": [],
   "source": []
  }
 ],
 "metadata": {
  "kernelspec": {
   "display_name": "Python 3",
   "language": "python",
   "name": "python3"
  },
  "language_info": {
   "codemirror_mode": {
    "name": "ipython",
    "version": 3
   },
   "file_extension": ".py",
   "mimetype": "text/x-python",
   "name": "python",
   "nbconvert_exporter": "python",
   "pygments_lexer": "ipython3",
   "version": "3.5.2"
  }
 },
 "nbformat": 4,
 "nbformat_minor": 2
}
